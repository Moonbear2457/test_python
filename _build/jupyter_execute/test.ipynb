{
 "cells": [
  {
   "cell_type": "code",
   "execution_count": 2,
   "id": "3bc1aa86-be87-4383-b599-da8b5baaec16",
   "metadata": {},
   "outputs": [],
   "source": [
    "import numpy as np\n"
   ]
  },
  {
   "cell_type": "code",
   "execution_count": 5,
   "id": "bc88aa7a-9378-4edc-921c-4ec1ed2596d2",
   "metadata": {},
   "outputs": [
    {
     "data": {
      "text/plain": [
       "5"
      ]
     },
     "execution_count": 5,
     "metadata": {},
     "output_type": "execute_result"
    }
   ],
   "source": [
    "a = np.int8(2)\n",
    "b = np.int8(3)\n",
    "a+b"
   ]
  },
  {
   "cell_type": "markdown",
   "id": "2a6fd131-e4b2-44b9-9f25-5429388f4db3",
   "metadata": {},
   "source": [
    "This is my text"
   ]
  },
  {
   "cell_type": "code",
   "execution_count": 1,
   "id": "45ef4490-6d81-4abc-a425-07fd6a8c1efe",
   "metadata": {},
   "outputs": [],
   "source": [
    "import numpy as np"
   ]
  },
  {
   "cell_type": "code",
   "execution_count": 2,
   "id": "7d189e27-7ff0-4567-8361-9c6c116fffed",
   "metadata": {},
   "outputs": [
    {
     "ename": "ModuleNotFoundError",
     "evalue": "No module named 'microfilm'",
     "output_type": "error",
     "traceback": [
      "\u001b[0;31m---------------------------------------------------------------------------\u001b[0m",
      "\u001b[0;31mModuleNotFoundError\u001b[0m                       Traceback (most recent call last)",
      "Cell \u001b[0;32mIn[2], line 1\u001b[0m\n\u001b[0;32m----> 1\u001b[0m \u001b[38;5;28;01mfrom\u001b[39;00m \u001b[38;5;21;01mmicrofilm\u001b[39;00m \u001b[38;5;28;01mimport\u001b[39;00m colorify\n",
      "\u001b[0;31mModuleNotFoundError\u001b[0m: No module named 'microfilm'"
     ]
    }
   ],
   "source": [
    "from microfilm import colorify"
   ]
  }
 ],
 "metadata": {
  "kernelspec": {
   "display_name": "Python 3 (ipykernel)",
   "language": "python",
   "name": "python3"
  },
  "language_info": {
   "codemirror_mode": {
    "name": "ipython",
    "version": 3
   },
   "file_extension": ".py",
   "mimetype": "text/x-python",
   "name": "python",
   "nbconvert_exporter": "python",
   "pygments_lexer": "ipython3",
   "version": "3.12.1"
  }
 },
 "nbformat": 4,
 "nbformat_minor": 5
}